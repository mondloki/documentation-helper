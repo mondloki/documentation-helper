{
 "cells": [
  {
   "cell_type": "code",
   "execution_count": 1,
   "metadata": {},
   "outputs": [
    {
     "data": {
      "text/plain": [
       "['.env',\n",
       " '.git',\n",
       " '.gitignore',\n",
       " 'download_langchain_docs.py',\n",
       " 'ingestion.py',\n",
       " 'langchain_docs',\n",
       " 'README.md',\n",
       " 'requirements.txt',\n",
       " 'test.ipynb']"
      ]
     },
     "execution_count": 1,
     "metadata": {},
     "output_type": "execute_result"
    }
   ],
   "source": [
    "import os\n",
    "\n",
    "os.listdir()"
   ]
  },
  {
   "cell_type": "code",
   "execution_count": 2,
   "metadata": {},
   "outputs": [],
   "source": [
    "os.chdir('langchain_docs/api.python.langchain.com/en/latest')"
   ]
  },
  {
   "cell_type": "code",
   "execution_count": 3,
   "metadata": {},
   "outputs": [
    {
     "data": {
      "text/plain": [
       "['agents',\n",
       " 'ai21_api_reference.html',\n",
       " 'airbyte_api_reference.html',\n",
       " 'anthropic_api_reference.html',\n",
       " 'astradb_api_reference.html',\n",
       " 'aws_api_reference.html',\n",
       " 'azure_dynamic_sessions_api_reference.html',\n",
       " 'callbacks',\n",
       " 'chains',\n",
       " 'chat_models',\n",
       " 'chroma_api_reference.html',\n",
       " 'cohere_api_reference.html',\n",
       " 'community_api_reference.html',\n",
       " 'core_api_reference.html',\n",
       " 'couchbase_api_reference.html',\n",
       " 'elasticsearch_api_reference.html',\n",
       " 'embeddings',\n",
       " 'evaluation',\n",
       " 'exa_api_reference.html',\n",
       " 'experimental_api_reference.html',\n",
       " 'fireworks_api_reference.html',\n",
       " 'google_genai_api_reference.html',\n",
       " 'google_vertexai_api_reference.html',\n",
       " 'groq_api_reference.html',\n",
       " 'hub',\n",
       " 'huggingface_api_reference.html',\n",
       " 'ibm_api_reference.html',\n",
       " 'indexes',\n",
       " 'langchain_api_reference.html',\n",
       " 'memory',\n",
       " 'milvus_api_reference.html',\n",
       " 'mistralai_api_reference.html',\n",
       " 'model_laboratory',\n",
       " 'mongodb_api_reference.html',\n",
       " 'nomic_api_reference.html',\n",
       " 'nvidia_ai_endpoints_api_reference.html',\n",
       " 'openai_api_reference.html',\n",
       " 'output_parsers',\n",
       " 'pinecone_api_reference.html',\n",
       " 'postgres_api_reference.html',\n",
       " 'prompty_api_reference.html',\n",
       " 'qdrant_api_reference.html',\n",
       " 'retrievers',\n",
       " 'robocorp_api_reference.html',\n",
       " 'runnables',\n",
       " 'smith',\n",
       " 'storage',\n",
       " 'text_splitters_api_reference.html',\n",
       " 'together_api_reference.html',\n",
       " 'voyageai_api_reference.html',\n",
       " 'weaviate_api_reference.html']"
      ]
     },
     "execution_count": 3,
     "metadata": {},
     "output_type": "execute_result"
    }
   ],
   "source": [
    "os.listdir()"
   ]
  },
  {
   "cell_type": "code",
   "execution_count": null,
   "metadata": {},
   "outputs": [],
   "source": []
  }
 ],
 "metadata": {
  "kernelspec": {
   "display_name": "py311",
   "language": "python",
   "name": "python3"
  },
  "language_info": {
   "codemirror_mode": {
    "name": "ipython",
    "version": 3
   },
   "file_extension": ".py",
   "mimetype": "text/x-python",
   "name": "python",
   "nbconvert_exporter": "python",
   "pygments_lexer": "ipython3",
   "version": "3.11.11"
  }
 },
 "nbformat": 4,
 "nbformat_minor": 2
}
